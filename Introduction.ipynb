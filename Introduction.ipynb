{
 "cells": [
  {
   "cell_type": "markdown",
   "metadata": {},
   "source": [
    "# Python Tutorial - Python 101\n",
    "\n",
    "In this tutorial, we are going through basic elements of python including\n",
    "- Variable,\n",
    "- Data Structure,\n",
    "- Loop and Condition,\n",
    "- File I/O\n",
    "- OOP etc"
   ]
  },
  {
   "cell_type": "markdown",
   "metadata": {},
   "source": [
    "# What is Python?\n",
    "\n",
    "From [wikipedia](https://en.wikipedia.org/wiki/Python_%28programming_language%29),\n",
    "\n",
    "_Python is an interpreted high-level programming language for general-purpose programming. \n",
    "Created by Guido van Rossum and first released in 1991, Python has a design philosophy that emphasizes code readability, notably using significant whitespace. It provides constructs that enable clear programming on both small and large scales._\n"
   ]
  },
  {
   "cell_type": "markdown",
   "metadata": {},
   "source": [
    "## Getting Python\n",
    "\n",
    "\n",
    "In windows, getting python and jupoyter is easy.\n",
    "\n",
    "\n",
    "- Go to https://www.anaconda.com/download/\n",
    "![Anaconda](anaconda.PNG)\n",
    "- Download https://repo.continuum.io/archive/Anaconda3-5.1.0-Windows-x86_64.exe\n",
    "\n",
    "\n"
   ]
  },
  {
   "cell_type": "markdown",
   "metadata": {},
   "source": [
    "## Opening Jupyter\n",
    "\n",
    "- Windows -> Type here to search -> Type \"Anaconda\"\n",
    "\n",
    "![startup](start_menu.PNG)\n",
    "\n",
    "- Type `jupyter notebook` in terminal\n",
    "- Go to \"http://localhost:8888/\" in web browser"
   ]
  },
  {
   "cell_type": "markdown",
   "metadata": {},
   "source": [
    "## A little Introduction to Jupyter"
   ]
  },
  {
   "cell_type": "markdown",
   "metadata": {},
   "source": [
    "From [Jupyter](http://jupyter.org/index.html)\n",
    "\n",
    "_The Jupyter Notebook is an open-source web application that allows you to create and share documents that contain live code, equations, visualizations and narrative text. Uses include: data cleaning and transformation, numerical simulation, statistical modeling, data visualization, machine learning, and much more._\n",
    "\n",
    "<div style=\"width: 50%;\">\n",
    "![Jupyter](http://jupyter.org/assets/jupyterpreview.png)\n",
    "</div>"
   ]
  },
  {
   "cell_type": "markdown",
   "metadata": {},
   "source": [
    "# Python Playground"
   ]
  },
  {
   "cell_type": "code",
   "execution_count": 78,
   "metadata": {},
   "outputs": [
    {
     "name": "stdout",
     "output_type": "stream",
     "text": [
      "Python 3.6.3\r\n"
     ]
    }
   ],
   "source": [
    "! python -V"
   ]
  },
  {
   "cell_type": "markdown",
   "metadata": {},
   "source": [
    "# Basic Syntax\n",
    "## Hello World!"
   ]
  },
  {
   "cell_type": "code",
   "execution_count": 79,
   "metadata": {},
   "outputs": [
    {
     "name": "stdout",
     "output_type": "stream",
     "text": [
      "Hello World!\n",
      "Hello World, 2018-04-02\n"
     ]
    }
   ],
   "source": [
    "print(\"Hello World!\")\n",
    "print(\"Hello World, %d-%.2d-%.2d\" % (2018, 4, 2)) #Formatted Output"
   ]
  },
  {
   "cell_type": "markdown",
   "metadata": {},
   "source": [
    "## Data Type\n",
    "\n",
    "Python has the following built-in data types.\n",
    "\n",
    "- `bool`,\n",
    "- `int`, `float`, `complex`\n",
    "- `list`, `tuple`, `range`\n",
    "- `str`,\n",
    "- `dict`, `set`\n"
   ]
  },
  {
   "cell_type": "code",
   "execution_count": 80,
   "metadata": {},
   "outputs": [
    {
     "name": "stdout",
     "output_type": "stream",
     "text": [
      "True\n",
      "1234\n",
      "Hello World\n",
      "[1, 'asdf']\n",
      "{'Hello': 'World'}\n"
     ]
    }
   ],
   "source": [
    "print(True)\n",
    "print(1234)\n",
    "print(\"Hello World\")\n",
    "print([1, \"asdf\"])\n",
    "print({\"Hello\": \"World\"})"
   ]
  },
  {
   "cell_type": "markdown",
   "metadata": {},
   "source": [
    "## Variable Assignment"
   ]
  },
  {
   "cell_type": "code",
   "execution_count": 81,
   "metadata": {},
   "outputs": [
    {
     "data": {
      "text/plain": [
       "9"
      ]
     },
     "execution_count": 81,
     "metadata": {},
     "output_type": "execute_result"
    }
   ],
   "source": [
    "# Basic variable assignment\n",
    "\n",
    "a = 6\n",
    "b = 3\n",
    "c = a + b\n",
    "c"
   ]
  },
  {
   "cell_type": "code",
   "execution_count": 82,
   "metadata": {},
   "outputs": [
    {
     "data": {
      "text/plain": [
       "'Hello World'"
      ]
     },
     "execution_count": 82,
     "metadata": {},
     "output_type": "execute_result"
    }
   ],
   "source": [
    "s = \"Hello\"\n",
    "t = \"World\"\n",
    "v = s + \" \" + t\n",
    "v"
   ]
  },
  {
   "cell_type": "markdown",
   "metadata": {},
   "source": [
    "## Data Structure (List)\n",
    "\n",
    "List is one of the most fundamental data structures in Python. Just like array in other programming languages, a list contains elements in a fixed order and each element can be accessed via an index. Note that, Python's list is zero-based array and therefore the index of the first element is always *zero*. Also, elements can be in different data types. "
   ]
  },
  {
   "cell_type": "code",
   "execution_count": 83,
   "metadata": {},
   "outputs": [
    {
     "name": "stdout",
     "output_type": "stream",
     "text": [
      "['Ada', 'Bella', 'Connie']\n",
      "3\n",
      "Donna in the list? True\n",
      "['Ada', 'Bella', 'Connie', 'Donna']\n",
      "['Bella', 'Connie', 'Donna']\n",
      "['Ada', 'Bella', 'Connie', 'Donna']\n",
      "Donna\n",
      "['Donna', 'Connie', 'Bella', 'Ada']\n",
      "['Ada', 'Bella', 'Connie', 'Donna']\n"
     ]
    }
   ],
   "source": [
    "names = [\"Ada\", \"Bella\", \"Connie\"]\n",
    "print(names)\n",
    "print(len(names))\n",
    "names.append(\"Donna\")\n",
    "print(\"Donna in the list? %s\" % (\"Donna\" in names))\n",
    "print(names)\n",
    "names.remove(\"Ada\")\n",
    "print(names)\n",
    "names = [\"Ada\"] + names\n",
    "print(names)\n",
    "print(max(names))\n",
    "names.reverse()\n",
    "print(names)\n",
    "names.sort()\n",
    "print(names)"
   ]
  },
  {
   "cell_type": "markdown",
   "metadata": {},
   "source": [
    "## Data Structure (Dict)\n",
    "Dict is an associative array or a hashtable in Python. Each item in a dict contains two properties, `key` and `value`.\n"
   ]
  },
  {
   "cell_type": "code",
   "execution_count": 84,
   "metadata": {},
   "outputs": [
    {
     "name": "stdout",
     "output_type": "stream",
     "text": [
      "dict_keys(['Hello', 'World', 'CityU'])\n",
      "1\n",
      "1\n",
      "{'World': 3, 'CityU': -1}\n"
     ]
    }
   ],
   "source": [
    "counters = {\n",
    "    \"Hello\": 1,\n",
    "    \"World\": 3,\n",
    "    \"CityU\": -1,\n",
    "}\n",
    "print(counters.keys())\n",
    "print(counters[\"Hello\"])\n",
    "print(counters.get(\"Not found\", 1))\n",
    "del counters[\"Hello\"]\n",
    "print(counters)"
   ]
  },
  {
   "cell_type": "markdown",
   "metadata": {},
   "source": [
    "## Condition\n",
    "Python has `if` statement, just like any other languages."
   ]
  },
  {
   "cell_type": "code",
   "execution_count": 85,
   "metadata": {},
   "outputs": [
    {
     "name": "stdout",
     "output_type": "stream",
     "text": [
      "Hello, Tom\n"
     ]
    }
   ],
   "source": [
    "name = \"Tom\"\n",
    "region = \"Hong Kong\"\n",
    "if name == \"Tom\":\n",
    "    if region == \"Hong Kong\":\n",
    "        print(\"Hello, Tom\")\n",
    "    elif region == \"Japan\":\n",
    "        print(\"Konnichiwa\")\n",
    "    else:\n",
    "        pass"
   ]
  },
  {
   "cell_type": "markdown",
   "metadata": {},
   "source": [
    "## Looping\n",
    "There are two kinds of loops in Python.\n",
    "\n",
    "1. For-Loop\n",
    "2. While-Loop"
   ]
  },
  {
   "cell_type": "code",
   "execution_count": 86,
   "metadata": {},
   "outputs": [
    {
     "name": "stdout",
     "output_type": "stream",
     "text": [
      "A\n",
      "B\n",
      "C\n",
      "D\n",
      "E\n"
     ]
    }
   ],
   "source": [
    "for i in [\"A\", \"B\", \"C\", \"D\", \"E\"]:\n",
    "    print(i)"
   ]
  },
  {
   "cell_type": "code",
   "execution_count": 87,
   "metadata": {},
   "outputs": [
    {
     "name": "stdout",
     "output_type": "stream",
     "text": [
      "0\n",
      "1\n",
      "2\n",
      "3\n",
      "4\n",
      "5\n",
      "6\n",
      "7\n",
      "8\n",
      "9\n"
     ]
    }
   ],
   "source": [
    "i = 0\n",
    "while i < 10:\n",
    "    print(i)\n",
    "    i += 1"
   ]
  },
  {
   "cell_type": "markdown",
   "metadata": {},
   "source": [
    "# Indentation Matters"
   ]
  },
  {
   "cell_type": "markdown",
   "metadata": {},
   "source": [
    "Python interpreter enforces indentation so that code would be beautiful. Make sure you don't mix up tab with space character."
   ]
  },
  {
   "cell_type": "code",
   "execution_count": 88,
   "metadata": {},
   "outputs": [
    {
     "ename": "IndentationError",
     "evalue": "expected an indented block (<ipython-input-88-d3cc6677e445>, line 2)",
     "output_type": "error",
     "traceback": [
      "\u001b[0;36m  File \u001b[0;32m\"<ipython-input-88-d3cc6677e445>\"\u001b[0;36m, line \u001b[0;32m2\u001b[0m\n\u001b[0;31m    print(i)\u001b[0m\n\u001b[0m        ^\u001b[0m\n\u001b[0;31mIndentationError\u001b[0m\u001b[0;31m:\u001b[0m expected an indented block\n"
     ]
    }
   ],
   "source": [
    "for i in range(0, 100):\n",
    "print(i)"
   ]
  },
  {
   "cell_type": "markdown",
   "metadata": {},
   "source": [
    "If indentation has a problem. Python does **not** run your program."
   ]
  },
  {
   "cell_type": "markdown",
   "metadata": {},
   "source": [
    "## Modules & Import\n",
    "You can use a library both built-in or 3rd party when programming.\n",
    "\n",
    "For example,\n",
    "\n",
    "```python\n",
    "import datetime\n",
    "```\n",
    "\n",
    "and\n",
    "\n",
    "```python\n",
    "from datetime import datetime\n",
    "```"
   ]
  },
  {
   "cell_type": "code",
   "execution_count": 92,
   "metadata": {},
   "outputs": [
    {
     "name": "stdout",
     "output_type": "stream",
     "text": [
      "b10a8db164e0754105b7a99be72e3fe5\n"
     ]
    }
   ],
   "source": [
    "import hashlib\n",
    "md5 = hashlib.md5()\n",
    "md5.update(\"Hello World\".encode())\n",
    "print(md5.hexdigest())"
   ]
  },
  {
   "cell_type": "markdown",
   "metadata": {},
   "source": [
    "## File I/O\n",
    "File operation in Python is simple. In most of the time, you just need to stick with `open` function. `open` takes two parameters, the first parameter is the file path (either absoulte or relative) and the second parameter is the file mode. Mode can be\n",
    "1. \"r\" (read), \n",
    "2. \"w\" (write), \n",
    "3. \"a\" (append),\n",
    "4. \"b\" (binary)"
   ]
  },
  {
   "cell_type": "markdown",
   "metadata": {},
   "source": [
    "### File Input"
   ]
  },
  {
   "cell_type": "code",
   "execution_count": 28,
   "metadata": {},
   "outputs": [
    {
     "name": "stdout",
     "output_type": "stream",
     "text": [
      "line=[歡迎光臨香港城市大學（城大）。城大是一所充滿朝氣的大學，其地理位置獨特，位於香港這個東西方匯集的亞洲國際都會的中心。城大的目標是追求卓越、促進創新、培育創意，造福社會和服務全球。我們的願景是成為專業教育出眾的亞洲一流學府，推動不同文化及知識傳統的交流與相互增長，為人類福祉做出貢獻。]\n",
      "line=[]\n",
      "line=[城大於1994年成為大學，目前共有七個學院：商學院、人文社會科學院、科學及工程學院、動物醫學及生命科學院、創意媒體學院、能源及環境學院、法律學院。動物醫學及生命科學院與世界領先的美國康奈爾大學動物醫學院合作，於2017–18學年推出香港首個獸醫學學士課程。我們主張，專業教育應全面推行教研合一，課程設計旨在促進知識創造、]\n"
     ]
    }
   ],
   "source": [
    "f = open(\"lines.txt\", \"r\")\n",
    "lines = f.readlines()\n",
    "for line in lines:\n",
    "    print(\"line=[%s]\" % line.strip())\n",
    "f.close()"
   ]
  },
  {
   "cell_type": "markdown",
   "metadata": {},
   "source": [
    "### File Output"
   ]
  },
  {
   "cell_type": "code",
   "execution_count": 14,
   "metadata": {},
   "outputs": [],
   "source": [
    "import json\n",
    "f = open(\"a.json\", \"w\")\n",
    "f.write(json.dumps({\"Hello\": \"World\"}))\n",
    "f.close()"
   ]
  },
  {
   "cell_type": "markdown",
   "metadata": {},
   "source": [
    "### Closing a File\n",
    "Either you call `close` by the end of program or use `with` statement."
   ]
  },
  {
   "cell_type": "code",
   "execution_count": 15,
   "metadata": {},
   "outputs": [],
   "source": [
    "import json\n",
    "with open(\"a.json\", \"w\") as f:\n",
    "    f.write(json.dumps({\"Hello\": \"World\"}))"
   ]
  },
  {
   "cell_type": "markdown",
   "metadata": {},
   "source": [
    "## Function"
   ]
  },
  {
   "cell_type": "code",
   "execution_count": 18,
   "metadata": {},
   "outputs": [
    {
     "name": "stdout",
     "output_type": "stream",
     "text": [
      "27\n"
     ]
    }
   ],
   "source": [
    "def triple(x):\n",
    "    return x * x * x\n",
    "\n",
    "print(triple(3))"
   ]
  },
  {
   "cell_type": "markdown",
   "metadata": {},
   "source": [
    "### Default Parameter\n",
    "A function parameter can have a default value. You can call a function without assigning parameters if a parameter has a default value.\n",
    "\n",
    "### Function with no return value\n",
    "A `return` statement is not mandatory in a function call. In this case, `None` will be returned."
   ]
  },
  {
   "cell_type": "code",
   "execution_count": 21,
   "metadata": {},
   "outputs": [
    {
     "name": "stdout",
     "output_type": "stream",
     "text": [
      "Hello World\n",
      "Hello World\n",
      "Hello World\n",
      "Hello World\n",
      "Hello World\n",
      "Hello World\n",
      "Hello World\n",
      "Hello World\n",
      "Hello World\n",
      "Hello World\n",
      "Empty Message\n",
      "Empty Message\n",
      "Empty Message\n",
      "Empty Message\n",
      "Empty Message\n",
      "Empty Message\n",
      "Empty Message\n",
      "Empty Message\n",
      "Empty Message\n",
      "Empty Message\n"
     ]
    }
   ],
   "source": [
    "def print_all(message=\"Empty Message\"):\n",
    "    for i in range(0, 10):\n",
    "        print(message)\n",
    "\n",
    "print_all(\"Hello World\")\n",
    "print_all()"
   ]
  },
  {
   "cell_type": "markdown",
   "metadata": {},
   "source": [
    "## Class / OOP\n",
    "\n",
    "Python supports class which we can put both data and method into a single place. Each object is called an instance, an instance contains its own properties or state meanwhile each instance contains methods to modify and read its properties. The following is a simple class example in Python."
   ]
  },
  {
   "cell_type": "code",
   "execution_count": 22,
   "metadata": {},
   "outputs": [
    {
     "name": "stdout",
     "output_type": "stream",
     "text": [
      "Hello World\n"
     ]
    }
   ],
   "source": [
    "class Message:\n",
    "    def __init__(self, body):\n",
    "        self.body = body\n",
    "        \n",
    "    def output(self):\n",
    "        print(self.body)\n",
    "        \n",
    "a_message = Message(\"Hello World\")\n",
    "a_message.output()"
   ]
  },
  {
   "cell_type": "markdown",
   "metadata": {},
   "source": [
    "### Private Variable\n",
    "\n",
    "Python class supports private variable by prepending `__` before the property's name. For example,"
   ]
  },
  {
   "cell_type": "code",
   "execution_count": 30,
   "metadata": {},
   "outputs": [
    {
     "name": "stdout",
     "output_type": "stream",
     "text": [
      "Welcome to CityU.\n"
     ]
    },
    {
     "ename": "AttributeError",
     "evalue": "'MessagePrivate' object has no attribute '__body'",
     "output_type": "error",
     "traceback": [
      "\u001b[0;31m---------------------------------------------------------------------------\u001b[0m",
      "\u001b[0;31mAttributeError\u001b[0m                            Traceback (most recent call last)",
      "\u001b[0;32m<ipython-input-30-919f09b0bdd3>\u001b[0m in \u001b[0;36m<module>\u001b[0;34m()\u001b[0m\n\u001b[1;32m      8\u001b[0m \u001b[0mb_message\u001b[0m \u001b[0;34m=\u001b[0m \u001b[0mMessagePrivate\u001b[0m\u001b[0;34m(\u001b[0m\u001b[0;34m\"Welcome to CityU.\"\u001b[0m\u001b[0;34m)\u001b[0m\u001b[0;34m\u001b[0m\u001b[0m\n\u001b[1;32m      9\u001b[0m \u001b[0mprint\u001b[0m\u001b[0;34m(\u001b[0m\u001b[0mb_message\u001b[0m\u001b[0;34m.\u001b[0m\u001b[0mbody\u001b[0m\u001b[0;34m)\u001b[0m\u001b[0;34m\u001b[0m\u001b[0m\n\u001b[0;32m---> 10\u001b[0;31m \u001b[0mprint\u001b[0m\u001b[0;34m(\u001b[0m\u001b[0mb_message\u001b[0m\u001b[0;34m.\u001b[0m\u001b[0m__body\u001b[0m\u001b[0;34m)\u001b[0m\u001b[0;34m\u001b[0m\u001b[0m\n\u001b[0m",
      "\u001b[0;31mAttributeError\u001b[0m: 'MessagePrivate' object has no attribute '__body'"
     ]
    }
   ],
   "source": [
    "class MessagePrivate:\n",
    "    def __init__(self, body):\n",
    "        self.__body = body\n",
    "        self.body = body\n",
    "        \n",
    "    def output(self):\n",
    "        print(self.__body)\n",
    "b_message = MessagePrivate(\"Welcome to CityU.\")\n",
    "print(b_message.body)\n",
    "print(b_message.__body)"
   ]
  },
  {
   "cell_type": "markdown",
   "metadata": {},
   "source": [
    "`__body` cannot be accessed outsude of `b_message` while `body` can be."
   ]
  },
  {
   "cell_type": "markdown",
   "metadata": {},
   "source": [
    "### Inheritance\n",
    "Python class provides inheritance in both constructor and method call via calling `super`."
   ]
  },
  {
   "cell_type": "code",
   "execution_count": 35,
   "metadata": {},
   "outputs": [
    {
     "name": "stdout",
     "output_type": "stream",
     "text": [
      "I am Ho Wa in Computer Science.\n"
     ]
    }
   ],
   "source": [
    "class Person:\n",
    "    def __init__(self, name):\n",
    "        self.name = name\n",
    "        self.cnt = 0\n",
    "\n",
    "    def inc(self):\n",
    "        self.cnt += 1\n",
    "        \n",
    "class Student(Person):\n",
    "    def __init__(self, name, dept):\n",
    "        super().__init__(name)\n",
    "        self.dept = dept\n",
    "        \n",
    "    def output(self):\n",
    "        print(\"I am %s in %s.\" % (self.name, self.dept))\n",
    "\n",
    "s = Student(\"Ho Wa\", \"Computer Science\")\n",
    "s.output()"
   ]
  },
  {
   "cell_type": "markdown",
   "metadata": {},
   "source": [
    "`Student` inherits from `Person` that `Student` has `name` property from `Person` and its own property `dept`."
   ]
  },
  {
   "cell_type": "markdown",
   "metadata": {},
   "source": [
    "### Static Method\n",
    "\n",
    "In Python, a class can also have static method."
   ]
  },
  {
   "cell_type": "code",
   "execution_count": 32,
   "metadata": {},
   "outputs": [
    {
     "name": "stdout",
     "output_type": "stream",
     "text": [
      "This is the new message: [Hello World]\n"
     ]
    }
   ],
   "source": [
    "class Helper:\n",
    "    @staticmethod\n",
    "    def process_message(body):\n",
    "        return \"This is the new message: [%s]\" % (body)\n",
    "\n",
    "print(Helper.process_message(\"Hello World\"))"
   ]
  },
  {
   "cell_type": "markdown",
   "metadata": {},
   "source": [
    "## Duck Typing\n",
    "Python supports *duck typing*, a type only matters in runtime. For example, I can put both `Message` and `MessagePrivate` into an array and call `output`. But actually, these two classes do not share any interface or inheritance. "
   ]
  },
  {
   "cell_type": "code",
   "execution_count": 43,
   "metadata": {},
   "outputs": [
    {
     "name": "stdout",
     "output_type": "stream",
     "text": [
      "Hello 1\n",
      "Hello2\n"
     ]
    }
   ],
   "source": [
    "messages = [Message(\"Hello 1\"), MessagePrivate(\"Hello2\")]\n",
    "for message in messages:\n",
    "    message.output()"
   ]
  }
 ],
 "metadata": {
  "kernelspec": {
   "display_name": "Python 3",
   "language": "python",
   "name": "python3"
  },
  "language_info": {
   "codemirror_mode": {
    "name": "ipython",
    "version": 3
   },
   "file_extension": ".py",
   "mimetype": "text/x-python",
   "name": "python",
   "nbconvert_exporter": "python",
   "pygments_lexer": "ipython3",
   "version": "3.6.3"
  }
 },
 "nbformat": 4,
 "nbformat_minor": 2
}
